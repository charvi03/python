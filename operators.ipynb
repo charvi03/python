{
 "cells": [
  {
   "cell_type": "code",
   "execution_count": 2,
   "id": "db910d4b",
   "metadata": {},
   "outputs": [
    {
     "name": "stdout",
     "output_type": "stream",
     "text": [
      "enter 1st number 3\n",
      "enter 2nd number 4\n",
      "7\n"
     ]
    }
   ],
   "source": [
    "x=int(input('enter 1st number '))\n",
    "y=int(input('enter 2nd number '))\n",
    "print(x+y)"
   ]
  },
  {
   "cell_type": "code",
   "execution_count": null,
   "id": "e2f0d33a",
   "metadata": {},
   "outputs": [],
   "source": [
    "x=int(input('enter 1st number '))\n",
    "y=int(input('enter 2nd number '))\n",
    "print(x-y)"
   ]
  },
  {
   "cell_type": "code",
   "execution_count": 4,
   "id": "c050bad8",
   "metadata": {},
   "outputs": [
    {
     "name": "stdout",
     "output_type": "stream",
     "text": [
      "enter 1st number 4\n",
      "enter 2nd number 5\n",
      "20\n"
     ]
    }
   ],
   "source": [
    "x=int(input('enter 1st number '))\n",
    "y=int(input('enter 2nd number '))\n",
    "print(x*y)\n"
   ]
  },
  {
   "cell_type": "code",
   "execution_count": 5,
   "id": "b29d93b9",
   "metadata": {},
   "outputs": [
    {
     "name": "stdout",
     "output_type": "stream",
     "text": [
      "enter 1st number 4\n",
      "enter 2nd number 2\n",
      "2.0\n"
     ]
    }
   ],
   "source": [
    "x=int(input('enter 1st number '))\n",
    "y=int(input('enter 2nd number '))\n",
    "print(x/y)"
   ]
  },
  {
   "cell_type": "code",
   "execution_count": 6,
   "id": "3504015f",
   "metadata": {},
   "outputs": [
    {
     "name": "stdout",
     "output_type": "stream",
     "text": [
      "enter 1st number 6\n",
      "enter 2nd number 3\n",
      "0\n"
     ]
    }
   ],
   "source": [
    "x=int(input('enter 1st number '))\n",
    "y=int(input('enter 2nd number '))\n",
    "print(x%y)"
   ]
  },
  {
   "cell_type": "code",
   "execution_count": 9,
   "id": "bc7e97c7",
   "metadata": {},
   "outputs": [
    {
     "name": "stdout",
     "output_type": "stream",
     "text": [
      "enter principal amount 20000\n",
      "enter rate 5\n",
      "enter time period 3\n",
      "the simple interest  3000.0 RS.\n"
     ]
    }
   ],
   "source": [
    "#simple interest\n",
    "principal=float(input('enter principal amount '))\n",
    "rate=float(input('enter rate '))\n",
    "time=float(input('enter time period '))\n",
    "s_i=(principal*rate*time)/100\n",
    "print('the simple interest ' ,s_i ,\"RS.\" )"
   ]
  },
  {
   "cell_type": "code",
   "execution_count": 12,
   "id": "159e0df3",
   "metadata": {},
   "outputs": [
    {
     "name": "stdout",
     "output_type": "stream",
     "text": [
      "enter the length 4\n",
      "enter the breadth 9\n",
      "area of rectangle is  36  m.sq.\n"
     ]
    }
   ],
   "source": [
    "#area of rectangle\n",
    "l=int(input(\"enter the length \"))\n",
    "b=int(input(\"enter the breadth \"))\n",
    "a=l*b\n",
    "print(\"area of rectangle is \" , a ,' m.sq.')"
   ]
  },
  {
   "cell_type": "code",
   "execution_count": null,
   "id": "0e579ccc",
   "metadata": {},
   "outputs": [],
   "source": [
    "#area of sqaure\n",
    "side=int(input(\"enter the side \"))\n",
    "a=side*side\n",
    "print(\"area of square is \" , a ,' m.sq.')"
   ]
  },
  {
   "cell_type": "code",
   "execution_count": 14,
   "id": "a8fc1915",
   "metadata": {},
   "outputs": [
    {
     "name": "stdout",
     "output_type": "stream",
     "text": [
      "enter 1st number 4\n",
      "enter 2nd number 2\n",
      "the addition is  6\n",
      "the subtraction is  2\n",
      "the multiplication is  8\n",
      "the division is  2.0\n",
      "the modulus is  0\n"
     ]
    }
   ],
   "source": [
    "#all operations \n",
    "x=int(input('enter 1st number '))\n",
    "y=int(input('enter 2nd number '))\n",
    "print('the addition is ' ,x+y)\n",
    "print('the subtraction is ' ,x-y)\n",
    "print('the multiplication is ' ,x*y)\n",
    "print('the division is ' , x/y)\n",
    "print('the modulus is ', x%y)"
   ]
  },
  {
   "cell_type": "code",
   "execution_count": null,
   "id": "7b28b629",
   "metadata": {},
   "outputs": [],
   "source": []
  }
 ],
 "metadata": {
  "kernelspec": {
   "display_name": "Python 3 (ipykernel)",
   "language": "python",
   "name": "python3"
  },
  "language_info": {
   "codemirror_mode": {
    "name": "ipython",
    "version": 3
   },
   "file_extension": ".py",
   "mimetype": "text/x-python",
   "name": "python",
   "nbconvert_exporter": "python",
   "pygments_lexer": "ipython3",
   "version": "3.9.12"
  }
 },
 "nbformat": 4,
 "nbformat_minor": 5
}
