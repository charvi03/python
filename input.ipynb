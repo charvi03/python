{
 "cells": [
  {
   "cell_type": "code",
   "execution_count": 1,
   "id": "ebeb5e9f",
   "metadata": {},
   "outputs": [
    {
     "name": "stdout",
     "output_type": "stream",
     "text": [
      "enter your name:charvi\n",
      "hello,charvi\n"
     ]
    }
   ],
   "source": [
    "name=input(\"enter your name:\")\n",
    "print(\"hello,\" + name)"
   ]
  },
  {
   "cell_type": "code",
   "execution_count": 2,
   "id": "22d43367",
   "metadata": {},
   "outputs": [
    {
     "name": "stdout",
     "output_type": "stream",
     "text": [
      "enter a number:20\n",
      "220\n"
     ]
    }
   ],
   "source": [
    "number=int(input(\"enter a number:\"))\n",
    "print(number+ 200)"
   ]
  },
  {
   "cell_type": "code",
   "execution_count": 3,
   "id": "b4291e97",
   "metadata": {},
   "outputs": [
    {
     "name": "stdout",
     "output_type": "stream",
     "text": [
      "enter a number:chrvi\n",
      "chrvi\n",
      "<class 'str'>\n"
     ]
    }
   ],
   "source": [
    "name=(input(\"enter a name:\"))\n",
    "print(name)\n",
    "print(type(name))"
   ]
  },
  {
   "cell_type": "code",
   "execution_count": 4,
   "id": "1e7c002e",
   "metadata": {},
   "outputs": [
    {
     "name": "stdout",
     "output_type": "stream",
     "text": [
      "enter a number:2\n",
      "2\n",
      "<class 'str'>\n"
     ]
    }
   ],
   "source": [
    "number=(input(\"enter a number:\"))\n",
    "print(number)\n",
    "print(type(number))"
   ]
  },
  {
   "cell_type": "code",
   "execution_count": 5,
   "id": "27f157fa",
   "metadata": {},
   "outputs": [
    {
     "name": "stdout",
     "output_type": "stream",
     "text": [
      "1 2 3 5\n"
     ]
    }
   ],
   "source": [
    "print(1,2,3,5)"
   ]
  },
  {
   "cell_type": "code",
   "execution_count": 6,
   "id": "f1e86094",
   "metadata": {},
   "outputs": [
    {
     "name": "stdout",
     "output_type": "stream",
     "text": [
      "1*3*5*7\n"
     ]
    }
   ],
   "source": [
    "print(1,3,5,7,sep='*')"
   ]
  },
  {
   "cell_type": "code",
   "execution_count": 8,
   "id": "8d4401d3",
   "metadata": {},
   "outputs": [
    {
     "ename": "SyntaxError",
     "evalue": "positional argument follows keyword argument (1809401239.py, line 1)",
     "output_type": "error",
     "traceback": [
      "\u001b[1;36m  Input \u001b[1;32mIn [8]\u001b[1;36m\u001b[0m\n\u001b[1;33m    print(1,3,5,7,sep='*',end='\\n',8,9)\u001b[0m\n\u001b[1;37m                                      ^\u001b[0m\n\u001b[1;31mSyntaxError\u001b[0m\u001b[1;31m:\u001b[0m positional argument follows keyword argument\n"
     ]
    }
   ],
   "source": [
    "print(1,3,5,7,sep='*',end='\\n',8,9)"
   ]
  },
  {
   "cell_type": "code",
   "execution_count": 9,
   "id": "f8f39f53",
   "metadata": {},
   "outputs": [
    {
     "name": "stdout",
     "output_type": "stream",
     "text": [
      "1*3*5*7%"
     ]
    }
   ],
   "source": [
    "print(1,3,5,7,sep='*',end='%')"
   ]
  },
  {
   "cell_type": "code",
   "execution_count": 10,
   "id": "f63fea99",
   "metadata": {},
   "outputs": [
    {
     "name": "stdout",
     "output_type": "stream",
     "text": [
      "the vale of x is 5 and y is 19\n"
     ]
    }
   ],
   "source": [
    "x=5;\n",
    "y=19\n",
    "print('the vale of x is {} and y is {}'.format(x,y))"
   ]
  },
  {
   "cell_type": "code",
   "execution_count": 11,
   "id": "bea02995",
   "metadata": {},
   "outputs": [
    {
     "name": "stdout",
     "output_type": "stream",
     "text": [
      "i love chowmien and manchurian\n"
     ]
    }
   ],
   "source": [
    "print('i love {0} and {1}'.format('chowmien','manchurian'))"
   ]
  },
  {
   "cell_type": "code",
   "execution_count": 12,
   "id": "92853aad",
   "metadata": {},
   "outputs": [
    {
     "name": "stdout",
     "output_type": "stream",
     "text": [
      "hello charvi, good afternoon\n"
     ]
    }
   ],
   "source": [
    "print(\"hello {name}, {greeting}\".format(greeting=\"good afternoon\",\n",
    "                                       name=\"charvi\"))"
   ]
  },
  {
   "cell_type": "code",
   "execution_count": 14,
   "id": "640de986",
   "metadata": {},
   "outputs": [
    {
     "name": "stdout",
     "output_type": "stream",
     "text": [
      "enter your name  charvi\n",
      "enter the greeting  good morning\n",
      "hello   charvi ,   good morning\n"
     ]
    }
   ],
   "source": [
    "x=input(\"enter your name\");\n",
    "y=input(\"enter the greeting\")\n",
    "print('hello {} , {}'.format(x,y))"
   ]
  },
  {
   "cell_type": "code",
   "execution_count": 18,
   "id": "8ff04c21",
   "metadata": {},
   "outputs": [
    {
     "name": "stdout",
     "output_type": "stream",
     "text": [
      "enter a number:4\n",
      "the integer is  4\n"
     ]
    }
   ],
   "source": [
    "number=int(input(\"enter a number:\"))\n",
    "print('the integer is ' , number)"
   ]
  },
  {
   "cell_type": "code",
   "execution_count": 16,
   "id": "9c2407d4",
   "metadata": {},
   "outputs": [
    {
     "name": "stdout",
     "output_type": "stream",
     "text": [
      "enter a integer:222\n",
      "222\n"
     ]
    }
   ],
   "source": [
    "number=int(input(\"enter a integer:\"))\n",
    "print(number)"
   ]
  },
  {
   "cell_type": "code",
   "execution_count": 17,
   "id": "e84f7302",
   "metadata": {},
   "outputs": [
    {
     "name": "stdout",
     "output_type": "stream",
     "text": [
      "enter a integer:4.666\n",
      "4.666\n"
     ]
    }
   ],
   "source": [
    "number=float(input(\"enter a float:\"))\n",
    "print(number)"
   ]
  },
  {
   "cell_type": "code",
   "execution_count": null,
   "id": "9219a992",
   "metadata": {},
   "outputs": [],
   "source": []
  }
 ],
 "metadata": {
  "kernelspec": {
   "display_name": "Python 3 (ipykernel)",
   "language": "python",
   "name": "python3"
  },
  "language_info": {
   "codemirror_mode": {
    "name": "ipython",
    "version": 3
   },
   "file_extension": ".py",
   "mimetype": "text/x-python",
   "name": "python",
   "nbconvert_exporter": "python",
   "pygments_lexer": "ipython3",
   "version": "3.9.12"
  }
 },
 "nbformat": 4,
 "nbformat_minor": 5
}
